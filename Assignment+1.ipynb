{
 "cells": [
  {
   "cell_type": "markdown",
   "metadata": {},
   "source": [
    "---\n",
    "\n",
    "_You are currently looking at **version 1.1** of this notebook. To download notebooks and datafiles, as well as get help on Jupyter notebooks in the Coursera platform, visit the [Jupyter Notebook FAQ](https://www.coursera.org/learn/python-social-network-analysis/resources/yPcBs) course resource._\n",
    "\n",
    "---"
   ]
  },
  {
   "cell_type": "markdown",
   "metadata": {},
   "source": [
    "# Assignment 1 - Creating and Manipulating Graphs\n",
    "\n",
    "Eight employees at a small company were asked to choose 3 movies that they would most enjoy watching for the upcoming company movie night. These choices are stored in the file `Employee_Movie_Choices.txt`.\n",
    "\n",
    "A second file, `Employee_Relationships.txt`, has data on the relationships between different coworkers. \n",
    "\n",
    "The relationship score has value of `-100` (Enemies) to `+100` (Best Friends). A value of zero means the two employees haven't interacted or are indifferent.\n",
    "\n",
    "Both files are tab delimited."
   ]
  },
  {
   "cell_type": "code",
   "execution_count": 1,
   "metadata": {
    "collapsed": true
   },
   "outputs": [],
   "source": [
    "import networkx as nx\n",
    "import pandas as pd\n",
    "import numpy as np\n",
    "from networkx.algorithms import bipartite\n",
    "\n",
    "\n",
    "# This is the set of employees\n",
    "employees = set(['Pablo',\n",
    "                 'Lee',\n",
    "                 'Georgia',\n",
    "                 'Vincent',\n",
    "                 'Andy',\n",
    "                 'Frida',\n",
    "                 'Joan',\n",
    "                 'Claude'])\n",
    "\n",
    "# This is the set of movies\n",
    "movies = set(['The Shawshank Redemption',\n",
    "              'Forrest Gump',\n",
    "              'The Matrix',\n",
    "              'Anaconda',\n",
    "              'The Social Network',\n",
    "              'The Godfather',\n",
    "              'Monty Python and the Holy Grail',\n",
    "              'Snakes on a Plane',\n",
    "              'Kung Fu Panda',\n",
    "              'The Dark Knight',\n",
    "              'Mean Girls'])\n",
    "\n",
    "\n",
    "# you can use the following function to plot graphs\n",
    "# make sure to comment it out before submitting to the autograder\n",
    "# def plot_graph(G, weight_name=None):\n",
    "#     '''\n",
    "#     G: a networkx G\n",
    "#     weight_name: name of the attribute for plotting edge weights (if G is weighted)\n",
    "#     '''\n",
    "#     %matplotlib notebook\n",
    "#     import matplotlib.pyplot as plt\n",
    "    \n",
    "#     plt.figure()\n",
    "#     pos = nx.spring_layout(G)\n",
    "#     edges = G.edges()\n",
    "#     weights = None\n",
    "    \n",
    "#     if weight_name:\n",
    "#         weights = [int(G[u][v][weight_name]) for u,v in edges]\n",
    "#         labels = nx.get_edge_attributes(G,weight_name)\n",
    "#         nx.draw_networkx_edge_labels(G,pos,edge_labels=labels)\n",
    "#         nx.draw_networkx(G, pos, edges=edges, width=weights);\n",
    "#     else:\n",
    "#         nx.draw_networkx(G, pos, edges=edges);"
   ]
  },
  {
   "cell_type": "markdown",
   "metadata": {},
   "source": [
    "### Question 1\n",
    "\n",
    "Using NetworkX, load in the bipartite graph from `Employee_Movie_Choices.txt` and return that graph.\n",
    "\n",
    "*This function should return a networkx graph with 19 nodes and 24 edges*"
   ]
  },
  {
   "cell_type": "code",
   "execution_count": 2,
   "metadata": {
    "collapsed": true
   },
   "outputs": [],
   "source": [
    "def answer_one():\n",
    "    B = nx.Graph()\n",
    "    B.add_nodes_from(employees, bipartite=0,type='employee') # Add the node attribute “bipartite”\n",
    "    B.add_nodes_from(movies, bipartite=1,type='movies')\n",
    "#     B.add_edges_from(edges)\n",
    "#     G4 = nx.read_edgelist('Employee_Movie_Choices.txt',delimiter='\\t')\n",
    "    G_df = pd.read_csv('Employee_Movie_Choices.txt', sep='\\t',\n",
    "                   header=None, names=['employees', 'movies'])\n",
    "    G_df=G_df.drop(G_df.index[0])\n",
    "    edges=G_df.values.tolist()\n",
    "#     G5 = nx.from_pandas_dataframe(G_df, 'employees', 'movies')\n",
    "#     G5.edges(data=True)\n",
    "    B.add_edges_from(edges)\n",
    "    return B\n",
    "# print(answer_one())"
   ]
  },
  {
   "cell_type": "markdown",
   "metadata": {},
   "source": [
    "### Question 2\n",
    "\n",
    "Using the graph from the previous question, add nodes attributes named `'type'` where movies have the value `'movie'` and employees have the value `'employee'` and return that graph.\n",
    "\n",
    "*This function should return a networkx graph with node attributes `{'type': 'movie'}` or `{'type': 'employee'}`*"
   ]
  },
  {
   "cell_type": "code",
   "execution_count": 3,
   "metadata": {
    "collapsed": true
   },
   "outputs": [],
   "source": [
    "def answer_two():\n",
    "    G=answer_one()\n",
    "#     G= nx.read_edgelist('Employee_Movie_Choices.txt',delimiter='\\t')\n",
    "# #     attrs = {'type': 'movie', 'type': 'employee'}\n",
    "    nx.set_node_attributes(G, type,['movie','employee'])\n",
    "    return answer_one()\n",
    "# print(answer_two())"
   ]
  },
  {
   "cell_type": "markdown",
   "metadata": {
    "collapsed": true
   },
   "source": [
    "### Question 3\n",
    "\n",
    "Find a weighted projection of the graph from `answer_two` which tells us how many movies different pairs of employees have in common.\n",
    "\n",
    "*This function should return a weighted projected graph.*"
   ]
  },
  {
   "cell_type": "code",
   "execution_count": 4,
   "metadata": {
    "collapsed": true
   },
   "outputs": [],
   "source": [
    "def answer_three():\n",
    "    G = bipartite.weighted_projected_graph(answer_two(), employees,ratio=True)\n",
    "    # Your Code Here\n",
    "    \n",
    "    return G\n",
    "# print(answer_three().nodes(data=True))"
   ]
  },
  {
   "cell_type": "markdown",
   "metadata": {
    "collapsed": true
   },
   "source": [
    "### Question 4\n",
    "\n",
    "Suppose you'd like to find out if people that have a high relationship score also like the same types of movies.\n",
    "\n",
    "Find the Pearson correlation ( using `DataFrame.corr()` ) between employee relationship scores and the number of movies they have in common. If two employees have no movies in common it should be treated as a 0, not a missing value, and should be included in the correlation calculation.\n",
    "\n",
    "*This function should return a float.*"
   ]
  },
  {
   "cell_type": "code",
   "execution_count": 12,
   "metadata": {},
   "outputs": [
    {
     "data": {
      "text/plain": [
       "0.8014749455697415"
      ]
     },
     "execution_count": 12,
     "metadata": {},
     "output_type": "execute_result"
    }
   ],
   "source": [
    "def aux_four():\n",
    "    G = bipartite.weighted_projected_graph(answer_two(), employees,ratio=True)\n",
    "    df = pd.DataFrame(G.edges(data=True), columns=['person1', 'person2', 'weight'])\n",
    "    df['weight'] = df['weight'].map(lambda x: x['weight'])\n",
    "    # Your Code Here\n",
    "    G_df = pd.read_csv('Employee_Relationships.txt', sep='\\t',\n",
    "                   header=None, names=['person1', 'person2','weight'])\n",
    "    G_df=G_df.drop(G_df.index[0])\n",
    "    df_mascara=df[['person1','person2','weight']]\n",
    "    G_df_mascara=G_df[['person1','person2','weight']]\n",
    "\n",
    "    G_df_mascara=G_df_mascara.reset_index(drop=True)\n",
    "    df_mascara=df_mascara.reset_index(drop=True)\n",
    "    df_mascara=df_mascara.sort_index().sort_index(axis=1)\n",
    "    G_df_mascara=G_df_mascara.sort_index(axis=1)\n",
    "    return df_mascara, G_df_mascara\n",
    "\n",
    "def prepara_reflexivo_filmes_comum():\n",
    "    reflexivo= pd.concat([pd.DataFrame(aux_four()[0]['person2']),pd.DataFrame(aux_four()[0]['person1'])],axis=1)\n",
    "    reflexivo['weight']=aux_four()[0]['weight']\n",
    "    reflexivo.columns=['person1','person2','weight']\n",
    "    return pd.concat([aux_four()[0],reflexivo],names=['person1','person2','weight'],axis=0,ignore_index=True)\n",
    "\n",
    "\n",
    "def answer_four_aux():\n",
    "        colegas_c_filmes_em_comum= prepara_reflexivo_filmes_comum()\n",
    "        relacoes=aux_four()[1]\n",
    "#         df = relacoes.loc[colegas_c_filmes_em_comum['person1'] != relacoes['person1']].values\n",
    "        return relacoes,colegas_c_filmes_em_comum\n",
    "#         return\n",
    "    \n",
    "def answer_four():\n",
    "#     return 0.78839622217334737\n",
    "#     return 0.8014749455697413\n",
    "    list_relacoes=answer_four_aux()[0][['person1','person2']].values.tolist()\n",
    "    list_filmes_em_comum=answer_four_aux()[1][['person1','person2']].values.tolist()\n",
    "    nao_tem_filmes=list()\n",
    "    [nao_tem_filmes.append(y) for y in list_relacoes if y not in list_filmes_em_comum]\n",
    "    df_nao=pd.DataFrame(nao_tem_filmes)\n",
    "    df_nao.columns=['person1','person2']\n",
    "    df_nao['weight']=0\n",
    "    df_nao_sim= pd.concat([df_nao,answer_four_aux()[1]],axis=0,ignore_index=True)\n",
    "    lista_sim_nao=df_nao_sim[['person1','person2','weight']].values.tolist()\n",
    "    relacoes_e_filmes=pd.DataFrame([y for y in lista_sim_nao if y[0:2] in list_relacoes])\n",
    "    df2=pd.DataFrame(relacoes_e_filmes)\n",
    "    df2.columns=['person1','person2','weight2']\n",
    "    df3=answer_four_aux()[0]\n",
    "    df_merge_col = pd.merge(df2, df3, on=['person1','person2'],how='outer')\n",
    "    return float(df_merge_col['weight'].corr(df_merge_col['weight2']))\n",
    "#     return df_merge_col\n",
    "\n",
    "answer_four()"
   ]
  },
  {
   "cell_type": "code",
   "execution_count": null,
   "metadata": {
    "collapsed": true
   },
   "outputs": [],
   "source": []
  }
 ],
 "metadata": {
  "coursera": {
   "course_slug": "python-social-network-analysis",
   "graded_item_id": "YNa9b",
   "launcher_item_id": "hvNc1",
   "part_id": "VbyiB"
  },
  "kernelspec": {
   "display_name": "Python 3",
   "language": "python",
   "name": "python3"
  },
  "language_info": {
   "codemirror_mode": {
    "name": "ipython",
    "version": 3
   },
   "file_extension": ".py",
   "mimetype": "text/x-python",
   "name": "python",
   "nbconvert_exporter": "python",
   "pygments_lexer": "ipython3",
   "version": "3.6.2"
  }
 },
 "nbformat": 4,
 "nbformat_minor": 2
}
